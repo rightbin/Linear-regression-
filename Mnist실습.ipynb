{
  "nbformat": 4,
  "nbformat_minor": 0,
  "metadata": {
    "colab": {
      "name": "24_실습_callbacks2.ipynb",
      "provenance": [],
      "collapsed_sections": [],
      "include_colab_link": true
    },
    "coursera": {
      "course_slug": "introduction-tensorflow",
      "graded_item_id": "d6dew",
      "launcher_item_id": "FExZ4"
    },
    "kernelspec": {
      "display_name": "Python 3",
      "language": "python",
      "name": "python3"
    },
    "language_info": {
      "codemirror_mode": {
        "name": "ipython",
        "version": 3
      },
      "file_extension": ".py",
      "mimetype": "text/x-python",
      "name": "python",
      "nbconvert_exporter": "python",
      "pygments_lexer": "ipython3",
      "version": "3.8.3"
    }
  },
  "cells": [
    {
      "cell_type": "markdown",
      "metadata": {
        "id": "view-in-github",
        "colab_type": "text"
      },
      "source": [
        "<a href=\"https://colab.research.google.com/github/rightbin/Linear-regression-/blob/master/24_%EC%8B%A4%EC%8A%B5_callbacks2.ipynb\" target=\"_parent\"><img src=\"https://colab.research.google.com/assets/colab-badge.svg\" alt=\"Open In Colab\"/></a>"
      ]
    },
    {
      "cell_type": "markdown",
      "metadata": {
        "id": "tOoyQ70H00_s"
      },
      "source": [
        "## Exercise 2\n",
        "\n",
        "0~9까지의 숫자를 분류하는 MNIST classifier 를 만드세요. \n",
        "정확도가 99% 이상이 되면 멈추면 됩니다. \n",
        "\n",
        "Some notes:\n",
        "1. epochs 는 최대 10 까지 설정합니다. 10 이 넘가가도록 설정하지 마세요. \n",
        "2. 정확도가 99% 보다 크면 \"Reached 99% accuracy so cancelling training!\" 라고 출력하세요.\n",
        "3. 필요한 변수가 있다면, 자유롭게 코딩하세요.\n",
        "\n"
      ]
    },
    {
      "cell_type": "code",
      "metadata": {
        "id": "uzoWIAmu6agw"
      },
      "source": [
        "import tensorflow as tf\n",
        "import numpy as np\n",
        "import matplotlib.pyplot as plt\n",
        "import pandas as pd\n",
        "from PIL import Image\n",
        "%matplotlib inline\n",
        "from keras.datasets import mnist\n",
        "from keras.models import Sequential\n",
        "from keras.layers.core import Dense, Dropout, Activation\n",
        "from keras.optimizers import Adam\n",
        "from keras.utils import np_utils\n",
        "import tensorflow.keras\n",
        "from keras.models import Sequential\n",
        "from keras.layers import Dense, Flatten"
      ],
      "execution_count": 58,
      "outputs": []
    },
    {
      "cell_type": "code",
      "metadata": {
        "id": "9rvXQGAA0ssC"
      },
      "source": [
        "# 함수로 작성.\n",
        "def train_mnist():\n",
        "    \n",
        "    class myCallback(tf.keras.callbacks.Callback) : \n",
        "      def on_epoch_end(self, epoch, logs={}) :\n",
        "        if(logs.get('accuracy') >0.99) : \n",
        "          print(\"\\nReached 99% accuracy so cancelling training!\")\n",
        "          self.model.stop_training = True\n",
        "    \n",
        "    mnist = tf.keras.datasets.mnist\n",
        "\n",
        "    (X_train, y_train),(X_test, y_test) = mnist.load_data()\n",
        "    # YOUR CODE SHOULD START HERE\n",
        "    X_train = X_train / 255.0\n",
        "    X_test = X_test / 255.0\n",
        "\n",
        "    # YOUR CODE SHOULD END HERE\n",
        "    model = tf.keras.models.Sequential([\n",
        "              Flatten(),\n",
        "      Dense(units=512,activation=tf.nn.relu),\n",
        "      Dense(units=512,activation=tf.nn.relu),\n",
        "      Dense(units=10 , activation=tf.nn.softmax)                  \n",
        "    ])\n",
        "\n",
        "    model.compile(optimizer='adam',\n",
        "                  loss='sparse_categorical_crossentropy',\n",
        "                  metrics=['accuracy'])\n",
        "    \n",
        "    # model fitting\n",
        "    my_cb = myCallback()\n",
        "\n",
        "\n",
        "    history = model.fit(X_train,y_train,epochs= 7,callbacks=[my_cb])\n",
        "    # model fitting\n",
        "    return history.epoch, history.history['accuracy'][-1]"
      ],
      "execution_count": 67,
      "outputs": []
    },
    {
      "cell_type": "code",
      "metadata": {
        "colab": {
          "base_uri": "https://localhost:8080/"
        },
        "id": "5PtuAVE46agx",
        "scrolled": true,
        "outputId": "e955a6de-588d-44e8-84d7-068a20f591ba"
      },
      "source": [
        "train_mnist()"
      ],
      "execution_count": 68,
      "outputs": [
        {
          "output_type": "stream",
          "text": [
            "Epoch 1/7\n",
            "1875/1875 [==============================] - 15s 8ms/step - loss: 0.3092 - accuracy: 0.9049\n",
            "Epoch 2/7\n",
            "1875/1875 [==============================] - 14s 8ms/step - loss: 0.0838 - accuracy: 0.9748\n",
            "Epoch 3/7\n",
            "1875/1875 [==============================] - 14s 7ms/step - loss: 0.0514 - accuracy: 0.9837\n",
            "Epoch 4/7\n",
            "1875/1875 [==============================] - 14s 8ms/step - loss: 0.0410 - accuracy: 0.9871\n",
            "Epoch 5/7\n",
            "1875/1875 [==============================] - 14s 8ms/step - loss: 0.0267 - accuracy: 0.9916\n",
            "\n",
            "Reached 99% accuracy so cancelling training!\n"
          ],
          "name": "stdout"
        },
        {
          "output_type": "execute_result",
          "data": {
            "text/plain": [
              "([0, 1, 2, 3, 4], 0.9902666807174683)"
            ]
          },
          "metadata": {
            "tags": []
          },
          "execution_count": 68
        }
      ]
    },
    {
      "cell_type": "code",
      "metadata": {
        "id": "vfBBGjnO6ag0"
      },
      "source": [
        ""
      ],
      "execution_count": null,
      "outputs": []
    }
  ]
}
